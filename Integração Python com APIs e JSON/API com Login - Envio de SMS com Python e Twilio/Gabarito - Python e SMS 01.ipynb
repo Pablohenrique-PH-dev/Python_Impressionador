{
 "cells": [
  {
   "cell_type": "markdown",
   "metadata": {},
   "source": [
    "# Python e API com Login\n",
    "\n",
    "### O 1º Passo de toda API com Login é criar uma conta e pegar suas credenciais\n",
    "\n",
    "### No seu código, o 1º passo é sempre estabelecer a conexão com a API, usando seu login e suas credenciais\n",
    "\n",
    "- Como cada API é uma ferramenta diferente, cada uma delas pode exigir que você faça algum tipo de configuração, que vai estar explicada na API. No nosso caso, teremos que validar um número e criar um número de envio\n",
    "\n",
    "- Depois, usamos os métodos da API normalmente para fazer o que queremos. No nosso caso, enviar um SMS"
   ]
  },
  {
   "cell_type": "markdown",
   "metadata": {},
   "source": [
    "#### 1. Vamos criar um login no Twilio\n",
    "\n",
    "https://www.twilio.com/docs/libraries/python"
   ]
  },
  {
   "cell_type": "markdown",
   "metadata": {},
   "source": [
    "#### 2. Depois do Login, vamos pegar 3 informações:\n",
    "\n",
    "- ID da Conta\n",
    "- Token\n",
    "- Número de Envio"
   ]
  },
  {
   "cell_type": "markdown",
   "metadata": {},
   "source": [
    "#### 3. Agora vamos validar um número porque no Twilio, enviar SMS para um número válido é de graça"
   ]
  },
  {
   "cell_type": "markdown",
   "metadata": {},
   "source": [
    "#### 4. Agora podemos fazer o nosso código de acordo com as orientações do Twilio"
   ]
  },
  {
   "cell_type": "markdown",
   "metadata": {},
   "source": [
    "# ENVIAR MENSAGEM"
   ]
  },
  {
   "cell_type": "code",
   "execution_count": 3,
   "metadata": {},
   "outputs": [
    {
     "name": "stdout",
     "output_type": "stream",
     "text": [
      "SM25e1d6930d354241912637e5d9499e26\n"
     ]
    }
   ],
   "source": [
    "from twilio.rest import Client\n",
    "\n",
    "account_sid = \"AC3e4973e61ac664ab1e72470a217dd556\"\n",
    "token = \"555dc6667ab28c6eba594416807e14c0\"\n",
    "\n",
    "client = Client(account_sid, token)\n",
    "\n",
    "remetente = \"+16066378637\"\n",
    "destino = '+5521975418932'\n",
    "\n",
    "message = client.messages.create(\n",
    "    to=destino, \n",
    "    from_=remetente,\n",
    "    body=\"Coe, é o Lira aqui!\")\n",
    "\n",
    "print(message.sid)"
   ]
  },
  {
   "cell_type": "markdown",
   "metadata": {},
   "source": [
    "# FAZER LIGAÇÃO"
   ]
  },
  {
   "cell_type": "code",
   "execution_count": 4,
   "metadata": {},
   "outputs": [],
   "source": [
    "from twilio.rest import Client\n",
    "\n",
    "account_sid = \"AC3e4973e61ac664ab1e72470a217dd556\"\n",
    "auth_token = \"555dc6667ab28c6eba594416807e14c0\"\n",
    "meu_numero = \"+55 21 975418932\"\n",
    "numero_twilio = \"+16066378637\"\n",
    "\n",
    "cliente = Client(account_sid, auth_token)\n",
    "\n",
    "mensagem = \"\"\"\n",
    "<Response>\n",
    "<Say language=\"pt-BR\">\n",
    "\n",
    "leandro, para de assitir filme e volta a estudar\n",
    "\n",
    "segue o conselho de\n",
    "pablo develóper full steck paitónico \n",
    "\n",
    "</Say>\n",
    "</Response>\n",
    "\n",
    "\"\"\"\n",
    "\n",
    "ligacao = cliente.calls.create(\n",
    "    to=meu_numero,\n",
    "    from_=numero_twilio,\n",
    "    twiml=mensagem\n",
    ")\n"
   ]
  },
  {
   "cell_type": "code",
   "execution_count": null,
   "metadata": {},
   "outputs": [],
   "source": []
  }
 ],
 "metadata": {
  "kernelspec": {
   "display_name": "Python 3 (ipykernel)",
   "language": "python",
   "name": "python3"
  },
  "language_info": {
   "codemirror_mode": {
    "name": "ipython",
    "version": 3
   },
   "file_extension": ".py",
   "mimetype": "text/x-python",
   "name": "python",
   "nbconvert_exporter": "python",
   "pygments_lexer": "ipython3",
   "version": "3.9.7"
  }
 },
 "nbformat": 4,
 "nbformat_minor": 4
}
