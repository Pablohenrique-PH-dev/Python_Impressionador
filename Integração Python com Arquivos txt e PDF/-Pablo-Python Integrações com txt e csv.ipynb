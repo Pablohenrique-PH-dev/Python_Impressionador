{
 "cells": [
  {
   "cell_type": "markdown",
   "metadata": {},
   "source": [
    "# Integração do Python com Arquivos txt\n",
    "\n",
    "Como quase tudo no Python, existem várias formas de ler um arquivo no Python.\n",
    "\n",
    "Aprendemos em módulos passadas a ler arquivos em Excel ou csv com o Pandas, minha recomendação é que, sempre que possível, use o pandas para isso porque ele é um módulo feito para análise de dados e tem muita coisa pronta dentro dele.\n",
    "\n",
    "Caso queira ler um arquivo txt simplesmente ou escrever um, vamos ver agora como fazer.\n",
    "\n",
    "### Estrutura:"
   ]
  },
  {
   "cell_type": "raw",
   "metadata": {},
   "source": [
    "1. Método open: -> Abre um arquivo txt\n",
    "\n",
    "arquivo = open('NomeArquivo.txt', 'r')\n",
    "\n",
    "Usamos 'r' para abrir o arquivo para ler (read) e 'w' quando estamos abrindo o arquivo para escrever (write) ou 'a' se formos adicionar (append) uma informação no arquivo"
   ]
  },
  {
   "cell_type": "markdown",
   "metadata": {},
   "source": [
    "- Com o arquivo aberto, agora podemos efetivamente ler o arquivo com os métodos:"
   ]
  },
  {
   "cell_type": "raw",
   "metadata": {},
   "source": [
    "2. Método read():\n",
    "\n",
    "texto_arquivo = arquivo.read()\n",
    "\n",
    "3. Método readlines():\n",
    "\n",
    "lista_linhas = arquivo.readlines()"
   ]
  },
  {
   "cell_type": "markdown",
   "metadata": {},
   "source": [
    "- Para escrever alguma coisa no arquivo teremos o método write:"
   ]
  },
  {
   "cell_type": "raw",
   "metadata": {},
   "source": [
    "4. Método write():\n",
    "\n",
    "arquivo.write('Texto que quero escrever')"
   ]
  },
  {
   "cell_type": "markdown",
   "metadata": {},
   "source": [
    "- Obs: Quando você abre um arquivo, ele permanece aberto no Python até você fechar. Existem 2 formas de fazer isso:"
   ]
  },
  {
   "cell_type": "raw",
   "metadata": {},
   "source": [
    "5. Método close():\n",
    "\n",
    "arquivo.close()\n",
    "\n",
    "6. Usando a estrutura with: -> ao final do with, a própria estrutura with fecha automaticamente o arquivo\n",
    "\n",
    "with open('NomeArquivo.txt', 'w') as arquivo:\n",
    "    arquivo.write()\n",
    "    ..."
   ]
  },
  {
   "cell_type": "markdown",
   "metadata": {},
   "source": [
    "### Desafio onde vamos aprender:\n",
    "\n",
    "- Na Hashtag, sempre analisamos o nosso \"Funil de Vendas\". Para isso, rastreamos de onde veio os alunos por meio de um código, do tipo:\n",
    "    - hashtag_site_org -> Pessoas que vieram pelo site da Hashtag\n",
    "    - hashtag_yt_org -> Pessoas que vieram pelo Youtube da Hashtag\n",
    "    - hashtag_ig_org -> Pessoas que vieram pelo Instagram da Hashtag\n",
    "    - hashtag_igfb_org -> Pessoas que vieram pelo Instagram ou Facebook da Hashtag\n",
    "\n",
    "Os códigos diferentes disso, são códigos de anúncio da Hashtag.\n",
    "\n",
    "- Queremos analisar quantos alunos vieram de anúncio e quantos vieram \"orgânico\".\n",
    "- Qual a melhor fonte \"orgânica\" de alunos\n",
    "\n",
    "Obs: orgânico é tudo aquilo que não veio de anúncios.\n",
    "\n",
    "No nosso sistema, conseguimos exportar um txt com as informações dos alunos, conforme o arquivo Alunos.txt<br>\n",
    "(Os dados foram gerados aleatoriamente para simular uma situação real, já que não podemos fornecer os dados reais dos alunos por questões de segurança)\n",
    "\n",
    "- No final, para treinar, vamos escrever todas essas respostas em um novo arquivo txt"
   ]
  },
  {
   "cell_type": "code",
   "execution_count": 119,
   "metadata": {},
   "outputs": [],
   "source": [
    "arquivo = open('Alunos.txt', 'r')\n",
    "#print(arquivo.readlines())\n",
    "\n",
    "\n",
    "nao_org1 = []\n",
    "\n",
    "alu = 0\n",
    "org_ = 0\n",
    "site = 0\n",
    "yt = 0\n",
    "ig = 0\n",
    "nao_org = 0\n",
    "\n",
    "for alunos in arquivo:\n",
    "    if 'fulano' in alunos:\n",
    "        alu += 1\n",
    "        if 'org' in alunos:\n",
    "            org_ += 1 \n",
    "            if 'hashtag_site_org' in alunos:\n",
    "                site += 1\n",
    "            if 'hashtag_yt_org' in alunos:\n",
    "                yt += 1\n",
    "            if 'hashtag_ig_org' in alunos or 'igfb_org' in alunos:\n",
    "                ig += 1\n",
    "        if not 'org' in alunos:\n",
    "            nao_org += 1\n",
    "            \n",
    "            \n",
    "#print(alu)\n",
    "#print(nao_org)\n",
    "#print(org_) \n",
    "#print(site) \n",
    "#print(yt) \n",
    "#print(ig)\n",
    "\n",
    "with open('desafio.txt', 'w') as arquivo_desafio:\n",
    "    arquivo_desafio.write('Resultado do desafio integração com txt e csv\\n\\nTotal de alunos que vieram do orgânico foi {}.\\n\\n'.format(org_))\n",
    "    arquivo_desafio.write('A melhor fonte de cadastros de alunos orgânico é o youtube com {} inscrições\\n\\nAté a próxima.'.format(yt))\n",
    "\n",
    "\n",
    "arquivo.close()"
   ]
  },
  {
   "cell_type": "code",
   "execution_count": 87,
   "metadata": {},
   "outputs": [
    {
     "name": "stdout",
     "output_type": "stream",
     "text": [
      "do\n"
     ]
    }
   ],
   "source": [
    "#s = 'hail'\n",
    "#s = 'swiming'\n",
    "s = 'do'\n",
    "\n",
    "\n",
    "if len(s) >= 3 and 'ing' in s:\n",
    "    print(s + 'ly')\n",
    "else:\n",
    "    print(s)"
   ]
  },
  {
   "cell_type": "code",
   "execution_count": null,
   "metadata": {},
   "outputs": [],
   "source": []
  }
 ],
 "metadata": {
  "kernelspec": {
   "display_name": "Python 3 (ipykernel)",
   "language": "python",
   "name": "python3"
  },
  "language_info": {
   "codemirror_mode": {
    "name": "ipython",
    "version": 3
   },
   "file_extension": ".py",
   "mimetype": "text/x-python",
   "name": "python",
   "nbconvert_exporter": "python",
   "pygments_lexer": "ipython3",
   "version": "3.9.7"
  }
 },
 "nbformat": 4,
 "nbformat_minor": 4
}
