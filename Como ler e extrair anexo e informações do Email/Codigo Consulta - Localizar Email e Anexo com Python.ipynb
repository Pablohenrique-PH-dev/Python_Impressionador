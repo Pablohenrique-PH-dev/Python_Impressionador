{
 "cells": [
  {
   "cell_type": "code",
   "execution_count": null,
   "id": "46d8e6fd",
   "metadata": {},
   "outputs": [],
   "source": [
    "from imap_tools import MailBox, AND\n",
    "\n",
    "# pegar emails de um remetente para um destinatário\n",
    "username = \"seu_email\"\n",
    "password = \"senha\"\n",
    "\n",
    "# lista de imaps: https://www.systoolsgroup.com/imap/\n",
    "meu_email = MailBox('imap.gmail.com').login(username, password)\n",
    "\n",
    "# criterios: https://github.com/ikvk/imap_tools#search-criteria\n",
    "lista_emails = meu_email.fetch(AND(from_=\"remetente\", to=\"destinatario\")) \n",
    "for email in lista_emails:\n",
    "    print(email.subject)\n",
    "    print(email.text)\n",
    "\n",
    "\n",
    "# pegar emails com um anexo específico\n",
    "lista_emails = meu_email.fetch(AND(from_=\"remetente\"))\n",
    "for email in lista_emails:\n",
    "    if len(email.attachments) > 0:\n",
    "        for anexo in email.attachments:\n",
    "            if \"TituloAnexo\" in anexo.filename:\n",
    "                print(anexo.content_type)\n",
    "                print(anexo.payload)\n",
    "                with open(\"Teste.xlsx\", 'wb') as arquivo_excel:\n",
    "                    arquivo_excel.write(anexo.payload)"
   ]
  }
 ],
 "metadata": {
  "kernelspec": {
   "display_name": "Python 3 (ipykernel)",
   "language": "python",
   "name": "python3"
  },
  "language_info": {
   "codemirror_mode": {
    "name": "ipython",
    "version": 3
   },
   "file_extension": ".py",
   "mimetype": "text/x-python",
   "name": "python",
   "nbconvert_exporter": "python",
   "pygments_lexer": "ipython3",
   "version": "3.9.7"
  }
 },
 "nbformat": 4,
 "nbformat_minor": 5
}
