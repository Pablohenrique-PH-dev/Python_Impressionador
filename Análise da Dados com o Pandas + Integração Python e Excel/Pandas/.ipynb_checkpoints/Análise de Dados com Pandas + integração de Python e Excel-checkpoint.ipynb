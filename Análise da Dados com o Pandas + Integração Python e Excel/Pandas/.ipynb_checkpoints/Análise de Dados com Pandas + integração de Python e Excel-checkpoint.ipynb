{
 "cells": [
  {
   "cell_type": "markdown",
   "id": "0e188a13",
   "metadata": {},
   "source": [
    "# O que é o Pandas e para que serve\n",
    "\n",
    "- Análise de Dados (seja para DataScience, seja para trabalhar de forma integrada com arquivos em Excel e Banco de Dados)\n",
    "- Melhor biblioteca/módulo para trabalhar com quantidades enormes de informações\n",
    "- Uma mistura de listas e dicionários de forma muito eficiente\n",
    "\n",
    "## Resumo\n",
    "\n",
    "Se você trabalha com muitos dados, você vai precisar usar o pandas\n",
    "\n",
    "## Forma de usar"
   ]
  },
  {
   "cell_type": "code",
   "execution_count": 2,
   "id": "2cff94e8",
   "metadata": {},
   "outputs": [],
   "source": [
    "import pandas as pd"
   ]
  },
  {
   "cell_type": "markdown",
   "id": "ce1344ce",
   "metadata": {},
   "source": [
    "# pandas e csv\n",
    "\n",
    "## Resumo\n",
    "\n",
    "Quase sempre quando formos \"ler\" um arquivo csv, vamos usar o pandas. É prático e bem eficiente.\n",
    "\n",
    "## Funcionamento"
   ]
  },
  {
   "cell_type": "raw",
   "id": "b44d9bd2",
   "metadata": {},
   "source": [
    "Forma mais básica: (muitas vezes não usaremos a forma mais básica)\n",
    "dataframe = pd.read_csv(arquivo_com_extensao)"
   ]
  },
  {
   "cell_type": "markdown",
   "id": "14e0e32b",
   "metadata": {},
   "source": [
    "- Vamos ler um arquivo real, com a Base de Dados de Vendas da Empresa \"Contoso\""
   ]
  },
  {
   "cell_type": "code",
   "execution_count": 3,
   "id": "4d5c4398",
   "metadata": {},
   "outputs": [
    {
     "data": {
      "text/html": [
       "<div>\n",
       "<style scoped>\n",
       "    .dataframe tbody tr th:only-of-type {\n",
       "        vertical-align: middle;\n",
       "    }\n",
       "\n",
       "    .dataframe tbody tr th {\n",
       "        vertical-align: top;\n",
       "    }\n",
       "\n",
       "    .dataframe thead th {\n",
       "        text-align: right;\n",
       "    }\n",
       "</style>\n",
       "<table border=\"1\" class=\"dataframe\">\n",
       "  <thead>\n",
       "    <tr style=\"text-align: right;\">\n",
       "      <th></th>\n",
       "      <th>Numero da Venda;Data da Venda;Data do Envio;ID Canal;ID Loja;ID Produto;ID Promocao;ID Cliente;Quantidade Vendida;Quantidade Devolvida</th>\n",
       "    </tr>\n",
       "  </thead>\n",
       "  <tbody>\n",
       "    <tr>\n",
       "      <th>0</th>\n",
       "      <td>1;01/01/2017;02/01/2017;1;86;981;2;6825;9;1</td>\n",
       "    </tr>\n",
       "    <tr>\n",
       "      <th>1</th>\n",
       "      <td>2;01/01/2017;06/01/2017;5;308;1586;2;18469;9;1</td>\n",
       "    </tr>\n",
       "    <tr>\n",
       "      <th>2</th>\n",
       "      <td>3;01/01/2017;01/01/2017;0;294;1444;5;19730;13;1</td>\n",
       "    </tr>\n",
       "    <tr>\n",
       "      <th>3</th>\n",
       "      <td>4;01/01/2017;01/01/2017;0;251;1468;5;29326;6;1</td>\n",
       "    </tr>\n",
       "    <tr>\n",
       "      <th>4</th>\n",
       "      <td>5;01/01/2017;07/01/2017;6;94;1106;2;22617;4;1</td>\n",
       "    </tr>\n",
       "    <tr>\n",
       "      <th>...</th>\n",
       "      <td>...</td>\n",
       "    </tr>\n",
       "    <tr>\n",
       "      <th>980637</th>\n",
       "      <td>980638;31/12/2017;31/12/2017;0;194;2490;4;1035...</td>\n",
       "    </tr>\n",
       "    <tr>\n",
       "      <th>980638</th>\n",
       "      <td>980639;31/12/2017;06/01/2018;6;32;2488;4;31750...</td>\n",
       "    </tr>\n",
       "    <tr>\n",
       "      <th>980639</th>\n",
       "      <td>980640;31/12/2017;03/01/2018;3;210;2511;10;120...</td>\n",
       "    </tr>\n",
       "    <tr>\n",
       "      <th>980640</th>\n",
       "      <td>980641;31/12/2017;31/12/2017;0;53;436;4;25550;...</td>\n",
       "    </tr>\n",
       "    <tr>\n",
       "      <th>980641</th>\n",
       "      <td>980642;31/12/2017;31/12/2017;0;309;2510;10;287...</td>\n",
       "    </tr>\n",
       "  </tbody>\n",
       "</table>\n",
       "<p>980642 rows × 1 columns</p>\n",
       "</div>"
      ],
      "text/plain": [
       "       Numero da Venda;Data da Venda;Data do Envio;ID Canal;ID Loja;ID Produto;ID Promocao;ID Cliente;Quantidade Vendida;Quantidade Devolvida\n",
       "0             1;01/01/2017;02/01/2017;1;86;981;2;6825;9;1                                                                                    \n",
       "1          2;01/01/2017;06/01/2017;5;308;1586;2;18469;9;1                                                                                    \n",
       "2         3;01/01/2017;01/01/2017;0;294;1444;5;19730;13;1                                                                                    \n",
       "3          4;01/01/2017;01/01/2017;0;251;1468;5;29326;6;1                                                                                    \n",
       "4           5;01/01/2017;07/01/2017;6;94;1106;2;22617;4;1                                                                                    \n",
       "...                                                   ...                                                                                    \n",
       "980637  980638;31/12/2017;31/12/2017;0;194;2490;4;1035...                                                                                    \n",
       "980638  980639;31/12/2017;06/01/2018;6;32;2488;4;31750...                                                                                    \n",
       "980639  980640;31/12/2017;03/01/2018;3;210;2511;10;120...                                                                                    \n",
       "980640  980641;31/12/2017;31/12/2017;0;53;436;4;25550;...                                                                                    \n",
       "980641  980642;31/12/2017;31/12/2017;0;309;2510;10;287...                                                                                    \n",
       "\n",
       "[980642 rows x 1 columns]"
      ]
     },
     "execution_count": 3,
     "metadata": {},
     "output_type": "execute_result"
    }
   ],
   "source": [
    "vendas_df = pd.read_csv('Contoso - Vendas - 2017.csv') \n",
    "\n",
    "vendas_df # colocar o nome da variavel direto ao invés de print(vendas_df) pois o print não formata a tabela"
   ]
  },
  {
   "cell_type": "code",
   "execution_count": null,
   "id": "6ebc81be",
   "metadata": {},
   "outputs": [],
   "source": []
  }
 ],
 "metadata": {
  "kernelspec": {
   "display_name": "Python 3 (ipykernel)",
   "language": "python",
   "name": "python3"
  },
  "language_info": {
   "codemirror_mode": {
    "name": "ipython",
    "version": 3
   },
   "file_extension": ".py",
   "mimetype": "text/x-python",
   "name": "python",
   "nbconvert_exporter": "python",
   "pygments_lexer": "ipython3",
   "version": "3.9.7"
  }
 },
 "nbformat": 4,
 "nbformat_minor": 5
}
