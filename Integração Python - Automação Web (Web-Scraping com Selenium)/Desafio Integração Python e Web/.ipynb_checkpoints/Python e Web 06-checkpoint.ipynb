{
 "cells": [
  {
   "cell_type": "markdown",
   "metadata": {},
   "source": [
    "# Desafio - Rotina de Baixar uma Planilha da Web\n",
    "\n",
    "- Imagine que você trabalhe no Mercado Financeiro e tem que todo dia/semana baixar uma planilha com as cotações do dólar\n",
    "- Usaremos o site investing.com para baixar esses dados\n",
    "- O link onde ficam esses dados é: https://br.investing.com/currencies/usd-brl-historical-data\n",
    "- Escolhemos o site investing.com porque ele é cheio de coisinha chata que vai obrigar a gente a fazer um código completo\n",
    "- Crie uma conta no site antes de começar, é gratuito"
   ]
  },
  {
   "cell_type": "code",
   "execution_count": null,
   "metadata": {},
   "outputs": [],
   "source": []
  }
 ],
 "metadata": {
  "kernelspec": {
   "display_name": "Python 3 (ipykernel)",
   "language": "python",
   "name": "python3"
  },
  "language_info": {
   "codemirror_mode": {
    "name": "ipython",
    "version": 3
   },
   "file_extension": ".py",
   "mimetype": "text/x-python",
   "name": "python",
   "nbconvert_exporter": "python",
   "pygments_lexer": "ipython3",
   "version": "3.9.7"
  }
 },
 "nbformat": 4,
 "nbformat_minor": 4
}
