{
 "cells": [
  {
   "cell_type": "markdown",
   "metadata": {
    "id": "QrhYCk1GxBpN"
   },
   "source": [
    "# Desafio - Rotina de Baixar uma Planilha da Web\n",
    "\n",
    "- Imagine que você trabalhe no Mercado Financeiro e tem que todo dia/semana baixar uma planilha com as cotações do dólar\n",
    "- Usaremos o site investing.com para baixar esses dados\n",
    "- O link onde ficam esses dados é: https://br.investing.com/currencies/usd-brl-historical-data\n",
    "- Escolhemos o site investing.com porque ele é cheio de coisinha chata que vai obrigar a gente a fazer um código completo\n",
    "- Crie uma conta no site antes de começar, é gratuito"
   ]
  },
  {
   "cell_type": "code",
   "execution_count": null,
   "metadata": {
    "id": "ZUP8IrIgxBpT"
   },
   "outputs": [],
   "source": [
    "from selenium import webdriver\n",
    "import time\n",
    "from selenium.webdriver.common.keys import Keys\n",
    "\n",
    "driver = webdriver.Chrome()\n",
    "driver.get('https://br.investing.com/currencies/usd-brl-historical-data')\n",
    "time.sleep(5)\n",
    "driver.find_element_by_id('onetrust-accept-btn-handler').click()\n",
    "driver.find_element_by_class_name('downloadBlueIcon').click()\n",
    "driver.find_element_by_id('loginFormUser_email').send_keys('seu_email')\n",
    "driver.find_element_by_id('loginForm_password').send_keys('sua_senha')\n",
    "elementos = driver.find_elements_by_css_selector('a.orange')\n",
    "elementos[-1].click()\n",
    "time.sleep(5)\n",
    "driver.find_element_by_class_name('downloadBlueIcon').click()"
   ]
  },
  {
   "cell_type": "code",
   "execution_count": null,
   "metadata": {
    "id": "XC79LbqyxBpV"
   },
   "outputs": [],
   "source": []
  }
 ],
 "metadata": {
  "colab": {
   "collapsed_sections": [],
   "name": "Gabarito - Python e Web 06.ipynb",
   "provenance": []
  },
  "kernelspec": {
   "display_name": "Python 3 (ipykernel)",
   "language": "python",
   "name": "python3"
  },
  "language_info": {
   "codemirror_mode": {
    "name": "ipython",
    "version": 3
   },
   "file_extension": ".py",
   "mimetype": "text/x-python",
   "name": "python",
   "nbconvert_exporter": "python",
   "pygments_lexer": "ipython3",
   "version": "3.9.7"
  }
 },
 "nbformat": 4,
 "nbformat_minor": 1
}
