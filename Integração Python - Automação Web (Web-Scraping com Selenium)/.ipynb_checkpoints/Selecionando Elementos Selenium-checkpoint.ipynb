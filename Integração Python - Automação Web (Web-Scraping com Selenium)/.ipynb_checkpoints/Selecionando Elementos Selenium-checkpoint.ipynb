{
 "cells": [
  {
   "cell_type": "markdown",
   "id": "367cd714",
   "metadata": {
    "id": "367cd714"
   },
   "source": [
    "### Documentação Selenium:\n",
    "\n",
    "- https://selenium-python.readthedocs.io/locating-elements.html"
   ]
  },
  {
   "cell_type": "code",
   "execution_count": null,
   "id": "4e28f9f7",
   "metadata": {
    "id": "4e28f9f7",
    "outputId": "f2ebff24-5001-4f7b-bc6d-5b556255c636"
   },
   "outputs": [
    {
     "name": "stderr",
     "output_type": "stream",
     "text": [
      "\n",
      "\n",
      "====== WebDriver manager ======\n",
      "Current google-chrome version is 98.0.4758\n",
      "Get LATEST chromedriver version for 98.0.4758 google-chrome\n",
      "Trying to download new driver from https://chromedriver.storage.googleapis.com/98.0.4758.102/chromedriver_win32.zip\n",
      "Driver has been saved in cache [C:\\Users\\joaol\\.wdm\\drivers\\chromedriver\\win32\\98.0.4758.102]\n"
     ]
    }
   ],
   "source": [
    "from selenium import webdriver\n",
    "from selenium.webdriver.chrome.service import Service\n",
    "from webdriver_manager.chrome import ChromeDriverManager\n",
    "\n",
    "servico = Service(ChromeDriverManager().install())\n",
    "navegador = webdriver.Chrome(service=servico)"
   ]
  },
  {
   "cell_type": "code",
   "execution_count": null,
   "id": "59c8398d",
   "metadata": {
    "id": "59c8398d"
   },
   "outputs": [],
   "source": [
    "import os\n",
    "\n",
    "caminho = os.getcwd()\n",
    "arquivo = caminho + r\"\\Pagina Hashtag.html\"\n",
    "navegador.get(arquivo)"
   ]
  },
  {
   "cell_type": "markdown",
   "id": "7d964ce5",
   "metadata": {
    "id": "7d964ce5"
   },
   "source": [
    "#### Selecionar pela tag\n",
    "\n",
    "- Vamos selecionar o título"
   ]
  },
  {
   "cell_type": "code",
   "execution_count": null,
   "id": "d99bbc29",
   "metadata": {
    "id": "d99bbc29",
    "outputId": "71c52998-1ed4-4d78-de4d-d437c8d997f7"
   },
   "outputs": [
    {
     "name": "stdout",
     "output_type": "stream",
     "text": [
      "TODOS OS CURSOS DA HASHTAG TREINAMENTOS\n"
     ]
    }
   ],
   "source": [
    "from selenium.webdriver.common.by import By\n",
    "\n",
    "titulo = navegador.find_element(By.TAG_NAME, 'h2').text  # QUANDO QUISER PEGAR O TEXTO\n",
    "print(titulo)"
   ]
  },
  {
   "cell_type": "markdown",
   "id": "67982790",
   "metadata": {
    "id": "67982790"
   },
   "source": [
    "#### Selecionar pelo Partial Link Text (ou LINK_TEXT)\n",
    "- Quero conseguir pegar o número de whatsapp de contato"
   ]
  },
  {
   "cell_type": "code",
   "execution_count": null,
   "id": "2c22cd39",
   "metadata": {
    "id": "2c22cd39",
    "outputId": "5ce9802a-9541-405d-dcee-6081556232d3"
   },
   "outputs": [
    {
     "name": "stdout",
     "output_type": "stream",
     "text": [
      "(21) 99865-8852 (WhatsApp)\n"
     ]
    }
   ],
   "source": [
    "numero_whatsapp = navegador.find_element(By.PARTIAL_LINK_TEXT, 'WhatsApp').text\n",
    "print(numero_whatsapp)"
   ]
  },
  {
   "cell_type": "markdown",
   "id": "b9be7f69",
   "metadata": {
    "id": "b9be7f69"
   },
   "source": [
    "#### Selecionar pelo name\n",
    "- Preencher o formulário"
   ]
  },
  {
   "cell_type": "code",
   "execution_count": null,
   "id": "d87bb6bd",
   "metadata": {
    "id": "d87bb6bd"
   },
   "outputs": [],
   "source": [
    "navegador.find_element(By.NAME, 'email').send_keys(\"pythonimpressionador@gmail.com\")"
   ]
  },
  {
   "cell_type": "markdown",
   "id": "068093a0",
   "metadata": {
    "id": "068093a0"
   },
   "source": [
    "#### Selecionar pelo CSS Selector\n",
    "- Parecido com o XPATH, acaba não usando tanto, mas caso queira, tem uma referência aqui:\n",
    "https://saucelabs.com/resources/articles/selenium-tips-css-selectors"
   ]
  }
 ],
 "metadata": {
  "colab": {
   "name": "Selecionando Elementos Selenium.ipynb",
   "provenance": []
  },
  "kernelspec": {
   "display_name": "Python 3 (ipykernel)",
   "language": "python",
   "name": "python3"
  },
  "language_info": {
   "codemirror_mode": {
    "name": "ipython",
    "version": 3
   },
   "file_extension": ".py",
   "mimetype": "text/x-python",
   "name": "python",
   "nbconvert_exporter": "python",
   "pygments_lexer": "ipython3",
   "version": "3.9.7"
  }
 },
 "nbformat": 4,
 "nbformat_minor": 5
}
