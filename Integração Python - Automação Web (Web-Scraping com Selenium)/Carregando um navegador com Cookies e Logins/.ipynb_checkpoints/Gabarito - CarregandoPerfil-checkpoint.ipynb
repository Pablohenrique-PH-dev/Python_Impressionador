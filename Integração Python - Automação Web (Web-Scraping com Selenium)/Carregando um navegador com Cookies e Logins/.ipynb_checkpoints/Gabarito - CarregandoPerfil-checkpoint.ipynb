{
 "cells": [
  {
   "cell_type": "markdown",
   "id": "702b7e53",
   "metadata": {},
   "source": [
    "### Abrindo o navegador"
   ]
  },
  {
   "cell_type": "code",
   "execution_count": null,
   "id": "082ddc3b",
   "metadata": {},
   "outputs": [],
   "source": [
    "from selenium import webdriver\n",
    "from selenium.webdriver.chrome.service import Service\n",
    "from webdriver_manager.chrome import ChromeDriverManager\n",
    "from selenium.webdriver.common.by import By\n",
    "\n",
    "servico = Service(ChromeDriverManager().install())\n",
    "options = webdriver.ChromeOptions()\n",
    "options.add_argument(r\"user-data-dir=C:\\Users\\pablo\\AppData\\Local\\Google\\Chrome\\User Data\\Default\")\n",
    "navegador = webdriver.Chrome(service=servico, options=options)"
   ]
  },
  {
   "cell_type": "code",
   "execution_count": null,
   "id": "164794e0",
   "metadata": {},
   "outputs": [],
   "source": [
    "navegador.get(\"https://web.whatsapp.com\")"
   ]
  }
 ],
 "metadata": {
  "kernelspec": {
   "display_name": "Python 3 (ipykernel)",
   "language": "python",
   "name": "python3"
  },
  "language_info": {
   "codemirror_mode": {
    "name": "ipython",
    "version": 3
   },
   "file_extension": ".py",
   "mimetype": "text/x-python",
   "name": "python",
   "nbconvert_exporter": "python",
   "pygments_lexer": "ipython3",
   "version": "3.9.7"
  }
 },
 "nbformat": 4,
 "nbformat_minor": 5
}
