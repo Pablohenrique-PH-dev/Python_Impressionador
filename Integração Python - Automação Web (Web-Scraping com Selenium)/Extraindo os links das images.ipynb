{
 "cells": [
  {
   "cell_type": "markdown",
   "id": "367cd714",
   "metadata": {
    "id": "367cd714"
   },
   "source": [
    "### Documentação Selenium:\n",
    "\n",
    "- https://selenium-python.readthedocs.io/locating-elements.html"
   ]
  },
  {
   "cell_type": "markdown",
   "id": "864e7ef1",
   "metadata": {},
   "source": [
    "# Extraindo os links das images"
   ]
  },
  {
   "cell_type": "code",
   "execution_count": 12,
   "id": "4e28f9f7",
   "metadata": {
    "id": "4e28f9f7",
    "outputId": "8a541cba-8b09-4dda-e64f-cb1755982fb8"
   },
   "outputs": [
    {
     "name": "stderr",
     "output_type": "stream",
     "text": [
      "\n",
      "\n",
      "====== WebDriver manager ======\n",
      "Current google-chrome version is 101.0.4951\n",
      "Get LATEST chromedriver version for 101.0.4951 google-chrome\n",
      "Driver [C:\\Users\\pablo\\.wdm\\drivers\\chromedriver\\win32\\101.0.4951.41\\chromedriver.exe] found in cache\n"
     ]
    }
   ],
   "source": [
    "from selenium import webdriver\n",
    "from selenium.webdriver.chrome.service import Service\n",
    "from webdriver_manager.chrome import ChromeDriverManager\n",
    "from selenium.webdriver.common.by import By\n",
    "\n",
    "servico = Service(ChromeDriverManager().install())\n",
    "navegador = webdriver.Chrome(service=servico)"
   ]
  },
  {
   "cell_type": "code",
   "execution_count": 13,
   "id": "59c8398d",
   "metadata": {
    "id": "59c8398d"
   },
   "outputs": [],
   "source": [
    "# abrir uma página da internet\n",
    "#navegador.get(\"https://www.youtube.com/watch?v=zSyhWQcW1dE\")\n",
    "\n",
    "#abrir um arquivo html colocando o caminho que esta o arquivo\n",
    "#navegador.get(r\"C:\\Users\\pablo\\OneDrive\\Área de Trabalho\\PROGRAMADOR_BR\\Desafio_HTML_básico\\index.html\")\n",
    "navegador.get(r\"C:\\Users\\pablo\\OneDrive\\Área de Trabalho\\ARQUIVOS DA AULA\\Pagina Hashtag.html\")\n"
   ]
  },
  {
   "cell_type": "markdown",
   "id": "7d964ce5",
   "metadata": {
    "id": "7d964ce5"
   },
   "source": [
    "#### Pegar todos os links das imagens"
   ]
  },
  {
   "cell_type": "code",
   "execution_count": 14,
   "id": "e5c8e21c",
   "metadata": {
    "id": "e5c8e21c",
    "outputId": "22ebb9a4-f7b2-493b-e17b-b1c449f5ffbd"
   },
   "outputs": [
    {
     "name": "stdout",
     "output_type": "stream",
     "text": [
      "https://www.hashtagtreinamentos.com/curso-de-excel-online\n",
      "https://www.hashtagtreinamentos.com/curso-power-bi\n",
      "https://www.hashtagtreinamentos.com/curso-python\n",
      "https://www.hashtagtreinamentos.com/curso-sql\n",
      "https://www.hashtagtreinamentos.com/curso-vba-excel\n"
     ]
    }
   ],
   "source": [
    "lista_elementos = navegador.find_elements(By.TAG_NAME, 'figure') # lista de figures\n",
    "for elemento in lista_elementos:\n",
    "    try:   # se a condição abaixo for verdadeira realize\n",
    "        link = elemento.find_element(By.TAG_NAME, 'a').get_attribute('href')\n",
    "        print(link)\n",
    "    except:  # caso contrario continue e isso não gera erro\n",
    "        continue"
   ]
  },
  {
   "cell_type": "code",
   "execution_count": 15,
   "id": "f198b96a",
   "metadata": {
    "id": "f198b96a"
   },
   "outputs": [
    {
     "name": "stdout",
     "output_type": "stream",
     "text": [
      "FINALIZOU\n"
     ]
    }
   ],
   "source": [
    "print('FINALIZOU')"
   ]
  },
  {
   "cell_type": "code",
   "execution_count": null,
   "id": "c88826ea",
   "metadata": {},
   "outputs": [],
   "source": []
  }
 ],
 "metadata": {
  "colab": {
   "name": "Selecionando Elementos Selenium.ipynb",
   "provenance": []
  },
  "kernelspec": {
   "display_name": "Python 3 (ipykernel)",
   "language": "python",
   "name": "python3"
  },
  "language_info": {
   "codemirror_mode": {
    "name": "ipython",
    "version": 3
   },
   "file_extension": ".py",
   "mimetype": "text/x-python",
   "name": "python",
   "nbconvert_exporter": "python",
   "pygments_lexer": "ipython3",
   "version": "3.9.7"
  }
 },
 "nbformat": 4,
 "nbformat_minor": 5
}
