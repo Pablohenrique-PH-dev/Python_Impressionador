{
 "cells": [
  {
   "cell_type": "code",
   "execution_count": 215,
   "id": "32fb29ea",
   "metadata": {},
   "outputs": [
    {
     "name": "stderr",
     "output_type": "stream",
     "text": [
      "\n",
      "\n",
      "====== WebDriver manager ======\n",
      "Current google-chrome version is 101.0.4951\n",
      "Get LATEST chromedriver version for 101.0.4951 google-chrome\n",
      "Driver [C:\\Users\\pablo\\.wdm\\drivers\\chromedriver\\win32\\101.0.4951.41\\chromedriver.exe] found in cache\n"
     ]
    }
   ],
   "source": [
    "from selenium import webdriver\n",
    "from selenium.webdriver.chrome.service import Service\n",
    "from webdriver_manager.chrome import ChromeDriverManager\n",
    "from selenium.webdriver.common.by import By\n",
    "from selenium.webdriver.common.keys import Keys\n",
    "from selenium.webdriver.support.select import Select\n",
    "import time\n",
    "\n",
    "servico = Service(ChromeDriverManager().install())\n",
    "navegador = webdriver.Chrome(service=servico)"
   ]
  },
  {
   "cell_type": "markdown",
   "id": "31af74d2",
   "metadata": {},
   "source": [
    "# Abrir navegador"
   ]
  },
  {
   "cell_type": "code",
   "execution_count": 216,
   "id": "d7967aae",
   "metadata": {},
   "outputs": [],
   "source": [
    "navegador.get(r\"C:\\Users\\pablo\\OneDrive\\Área de Trabalho\\PYTHON LIRA\\Integração Python - Automação Web (Web-Scraping com Selenium)\\EmissãoNF\\login.html\")"
   ]
  },
  {
   "cell_type": "code",
   "execution_count": 217,
   "id": "b7d33be8",
   "metadata": {},
   "outputs": [],
   "source": [
    "# pandas\n",
    "import pandas as pd\n",
    "\n",
    "Planilha_de_vendas_df = pd.read_excel(\"NotasEmitir.xlsx\")\n",
    "\n",
    "#display(Planilha_de_vendas_df)\n",
    "\n",
    "#tabela_df.info()\n",
    "\n",
    "#display(Planilha_aniversariante_df['NOME'][30])"
   ]
  },
  {
   "cell_type": "raw",
   "id": "e9e286d7",
   "metadata": {},
   "source": [
    "print(len(Planilha_de_vendas_df))\n",
    "\n",
    "for x in range(len(Planilha_de_vendas_df)):\n",
    "    #print(x)\n",
    "    pablo = x\n",
    "    print(pablo)\n",
    "    for i, venda in enumerate(Planilha_de_vendas_df):\n",
    "        col = Planilha_de_vendas_df[venda][x]\n",
    "  \n",
    "        #print(col)\n"
   ]
  },
  {
   "cell_type": "markdown",
   "id": "c19c2a30",
   "metadata": {},
   "source": [
    "# Preencher Login , Senha e Clicar no Botão"
   ]
  },
  {
   "cell_type": "code",
   "execution_count": 218,
   "id": "d34cf856",
   "metadata": {},
   "outputs": [],
   "source": [
    "time.sleep(4)\n",
    "\n",
    "#limpar\n",
    "navegador.find_element(By.XPATH, '/html/body/div/form/input[1]').clear()\n",
    "# Login\n",
    "navegador.find_element(By.XPATH, '/html/body/div/form/input[1]').send_keys('pablo henrique')\n",
    "\n",
    "\n",
    "#limpar\n",
    "navegador.find_element(By.XPATH, '/html/body/div/form/input[2]').clear()\n",
    "# Senha\n",
    "navegador.find_element(By.XPATH, '/html/body/div/form/input[2]').send_keys('12345')\n",
    "\n",
    "time.sleep(3)\n",
    "\n",
    "#Clicar\n",
    "navegador.find_element(By.XPATH, '/html/body/div/form/button').click() \n",
    "\n"
   ]
  },
  {
   "cell_type": "markdown",
   "id": "f28666d9",
   "metadata": {},
   "source": [
    "# Preencher os campos da nota fiscal"
   ]
  },
  {
   "cell_type": "code",
   "execution_count": 219,
   "id": "a0fc1dba",
   "metadata": {},
   "outputs": [],
   "source": [
    "time.sleep(5)\n",
    "\n",
    "\n",
    "for x in range(len(Planilha_de_vendas_df)):\n",
    "    i = x\n",
    "    time.sleep(0.2)\n",
    "    \n",
    "    #limpar\n",
    "    navegador.find_element(By.XPATH, '/html/body/div/form/input[1]').clear()\n",
    "    # nome/razão social\n",
    "    navegador.find_element(By.XPATH, '//*[@id=\"nome\"]').send_keys(Planilha_de_vendas_df['Cliente'][i])\n",
    "\n",
    "\n",
    "    #limpar\n",
    "    navegador.find_element(By.NAME, 'endereco').clear()\n",
    "    # endereço Achei pelo nome pois existia 2 item com o mesmo XPATH\n",
    "    navegador.find_element(By.NAME, 'endereco').send_keys(Planilha_de_vendas_df['Endereço'][i])\n",
    "\n",
    "\n",
    "    #limpar\n",
    "    navegador.find_element(By.XPATH, '//*[@id=\"formulario\"]/input[3]').clear()\n",
    "    # bairro\n",
    "    navegador.find_element(By.XPATH, '//*[@id=\"formulario\"]/input[3]').send_keys(Planilha_de_vendas_df['Bairro'][i])\n",
    "\n",
    "\n",
    "    #limpar\n",
    "    navegador.find_element(By.XPATH, '//*[@id=\"formulario\"]/input[4]').clear()\n",
    "    # município\n",
    "    navegador.find_element(By.XPATH, '//*[@id=\"formulario\"]/input[4]').send_keys(Planilha_de_vendas_df['Municipio'][i])\n",
    "\n",
    "\n",
    "    #limpar\n",
    "    navegador.find_element(By.XPATH, '//*[@id=\"formulario\"]/input[5]').clear()\n",
    "    # cep\n",
    "    navegador.find_element(By.XPATH, '//*[@id=\"formulario\"]/input[5]').send_keys(str(Planilha_de_vendas_df['CEP'][i]))\n",
    "\n",
    "\n",
    "    # UF\n",
    "    navegador.find_element(By.XPATH, '//*[@id=\"formulario\"]/select').send_keys(str(Planilha_de_vendas_df['UF'][i]))\n",
    "\n",
    "    \"\"\"\n",
    "    from selenium.webdriver.support.select import Select\n",
    "\n",
    "    elemento = navegador.find_element(By.TAG_NAME, 'select')\n",
    "    elemento_select = Select(elemento)\n",
    "\n",
    "    elemento_select.select_by_visible_text(Planilha_de_vendas_df['UF'][i])\n",
    "    \"\"\"\n",
    "    \n",
    "    \"\"\"\n",
    "    navegador.find_element(By.XPATH, '//*[@id=\"formulario\"]/select').click()\n",
    "    time.sleep(1)\n",
    "    navegador.find_element(By.XPATH, '//*[@id=\"formulario\"]/select/option[8]').click() # DF\n",
    "    \"\"\"\n",
    "\n",
    "    #limpar\n",
    "    navegador.find_element(By.XPATH, '//*[@id=\"formulario\"]/input[6]').clear()\n",
    "    # cnpj/cpf\n",
    "    navegador.find_element(By.XPATH, '//*[@id=\"formulario\"]/input[6]').send_keys(str(Planilha_de_vendas_df['CPF/CNPJ'][i]))\n",
    "\n",
    "\n",
    "    #limpar\n",
    "    navegador.find_element(By.XPATH, '//*[@id=\"formulario\"]/input[7]').clear()\n",
    "    # inscrição estadual\n",
    "    navegador.find_element(By.XPATH, '//*[@id=\"formulario\"]/input[7]').send_keys(str(Planilha_de_vendas_df['Inscricao Estadual'][i]))\n",
    "\n",
    "\n",
    "    #limpar\n",
    "    navegador.find_element(By.XPATH, '//*[@id=\"formulario\"]/input[8]').clear()\n",
    "    # descrição do produto\n",
    "    navegador.find_element(By.XPATH, '//*[@id=\"formulario\"]/input[8]').send_keys(Planilha_de_vendas_df['Descrição'][i])\n",
    "\n",
    "\n",
    "    #limpar\n",
    "    navegador.find_element(By.XPATH, '//*[@id=\"formulario\"]/input[9]').clear()\n",
    "    # quantidade\n",
    "    navegador.find_element(By.XPATH, '//*[@id=\"formulario\"]/input[9]').send_keys(str(Planilha_de_vendas_df['Quantidade'][i]))\n",
    "\n",
    "\n",
    "    #limpar\n",
    "    navegador.find_element(By.XPATH, '//*[@id=\"formulario\"]/input[10]').clear()\n",
    "    # valor\n",
    "    navegador.find_element(By.XPATH, '//*[@id=\"formulario\"]/input[10]').send_keys(str(Planilha_de_vendas_df['Valor Unitario'][i]))\n",
    "\n",
    "\n",
    "    #limpar\n",
    "    navegador.find_element(By.XPATH, '//*[@id=\"formulario\"]/input[11]').clear()\n",
    "    # valor\n",
    "    navegador.find_element(By.XPATH, '//*[@id=\"formulario\"]/input[11]').send_keys(str(Planilha_de_vendas_df['Valor Total'][i]))\n",
    "\n",
    "\n",
    "    #Clicar emitir nota\n",
    "    navegador.find_element(By.XPATH, '//*[@id=\"formulario\"]/button').click() \n",
    "\n"
   ]
  },
  {
   "cell_type": "code",
   "execution_count": 220,
   "id": "ceb0fb70",
   "metadata": {},
   "outputs": [
    {
     "name": "stdout",
     "output_type": "stream",
     "text": [
      "Finalizou\n"
     ]
    }
   ],
   "source": [
    "print(\"Finalizou\")"
   ]
  }
 ],
 "metadata": {
  "kernelspec": {
   "display_name": "Python 3 (ipykernel)",
   "language": "python",
   "name": "python3"
  },
  "language_info": {
   "codemirror_mode": {
    "name": "ipython",
    "version": 3
   },
   "file_extension": ".py",
   "mimetype": "text/x-python",
   "name": "python",
   "nbconvert_exporter": "python",
   "pygments_lexer": "ipython3",
   "version": "3.9.7"
  }
 },
 "nbformat": 4,
 "nbformat_minor": 5
}
