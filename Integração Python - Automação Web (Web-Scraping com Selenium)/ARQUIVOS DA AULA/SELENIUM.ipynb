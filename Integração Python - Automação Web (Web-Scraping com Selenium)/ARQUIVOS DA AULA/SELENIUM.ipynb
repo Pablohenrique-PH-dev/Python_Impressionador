{
 "cells": [
  {
   "cell_type": "markdown",
   "id": "402554e5",
   "metadata": {},
   "source": [
    "COÓDIGO OBRIGATÓRIOS SEMPRE QUANDO INICIAR AUTOMAÇÃO COMO SELENIUM"
   ]
  },
  {
   "cell_type": "code",
   "execution_count": 46,
   "id": "0704cff7",
   "metadata": {},
   "outputs": [
    {
     "name": "stderr",
     "output_type": "stream",
     "text": [
      "\n",
      "\n",
      "====== WebDriver manager ======\n",
      "Current google-chrome version is 101.0.4951\n",
      "Get LATEST chromedriver version for 101.0.4951 google-chrome\n",
      "Driver [C:\\Users\\pablo\\.wdm\\drivers\\chromedriver\\win32\\101.0.4951.41\\chromedriver.exe] found in cache\n"
     ]
    }
   ],
   "source": [
    "from selenium import webdriver\n",
    "from selenium.webdriver.chrome.service import Service\n",
    "from webdriver_manager.chrome import ChromeDriverManager\n",
    "from selenium.webdriver.common.by import By\n",
    "from selenium.webdriver.common.keys import Keys\n",
    "import time\n",
    "\n",
    "servico = Service(ChromeDriverManager().install())\n",
    "navegador = webdriver.Chrome(service=servico)"
   ]
  },
  {
   "cell_type": "code",
   "execution_count": 44,
   "id": "9a4a2520",
   "metadata": {},
   "outputs": [],
   "source": [
    "# abrir uma página da internet\n",
    "#navegador.get(\"https://www.youtube.com/watch?v=zSyhWQcW1dE\")\n",
    "\n",
    "#abrir um arquivo html colocando o caminho que esta o arquivo\n",
    "#navegador.get(r\"C:\\Users\\pablo\\OneDrive\\Área de Trabalho\\PROGRAMADOR_BR\\Desafio_HTML_básico\\index.html\")\n",
    "navegador.get(r\"C:\\Users\\pablo\\OneDrive\\Área de Trabalho\\ARQUIVOS DA AULA\\Pagina Hashtag.html\")"
   ]
  },
  {
   "cell_type": "raw",
   "id": "d7fe1a1f",
   "metadata": {},
   "source": [
    "# se o arquivo html estiver dentro da pasta onde está salvo o programa usar esse modo\n",
    "\n",
    "import os \n",
    "\n",
    "caminho = os.getcwd()\n",
    "arquivo = caminho + r\"\\Pagina Hashtag.html\"\n",
    "print(arquivo)\n",
    "\n",
    "navegador.get(arquivo)"
   ]
  },
  {
   "cell_type": "markdown",
   "id": "2fa1dd0c",
   "metadata": {},
   "source": [
    "## TRABALHANDO COM (ID, CLASS, XPATH)\n",
    "\n",
    "### PREFIRIR NA SEGUINTE ORDEM\n",
    "\n",
    "#### 1° ID\n",
    "#### 2° CLASS\n",
    "#### 3° XPATH\n"
   ]
  },
  {
   "cell_type": "markdown",
   "id": "fc338a18",
   "metadata": {},
   "source": [
    "#### 1° ID"
   ]
  },
  {
   "cell_type": "code",
   "execution_count": 39,
   "id": "6cc99aa0",
   "metadata": {},
   "outputs": [],
   "source": [
    "from selenium.webdriver.common.by import By\n",
    "\n",
    "# TRABALHANDO COM 'ID'\n",
    "\n",
    "# Escrever \n",
    "campo_name = navegador.find_element(By.ID, 'fullname')  # seleciona o elemento e coloca em uma varialvel (id do item na pagina)\n",
    "campo_name.send_keys(\"pablo leb\")  # comando de escrita no elemento na pagina\n",
    "\n",
    "# outra forma de escrever é sem definir uma variavel\n",
    "navegador.find_element(By.ID, 'email').send_keys(\"p2@gmail.com\")\n",
    "\n",
    "# Clicar\n",
    "navegador.find_element(By.ID, '_form_176_submit').click()"
   ]
  },
  {
   "cell_type": "markdown",
   "id": "9f3ffdd6",
   "metadata": {},
   "source": [
    "#### 2° CLASS"
   ]
  },
  {
   "cell_type": "code",
   "execution_count": 42,
   "id": "d9ff1d4f",
   "metadata": {},
   "outputs": [],
   "source": [
    "from selenium.webdriver.common.by import By\n",
    "\n",
    "# TRABALHANDO COM 'CLASS'\n",
    "\n",
    "# clicar\n",
    "navegador.find_element(By.CLASS_NAME, 'custom-logo').click()\n"
   ]
  },
  {
   "cell_type": "markdown",
   "id": "e5cb7260",
   "metadata": {},
   "source": [
    "#### 3° XPATH"
   ]
  },
  {
   "cell_type": "code",
   "execution_count": 45,
   "id": "276dc2a0",
   "metadata": {},
   "outputs": [],
   "source": [
    "from selenium.webdriver.common.by import By\n",
    "\n",
    "# TRABALHANDO COM 'XPATH'\n",
    "\n",
    "# clicar\n",
    "navegador.find_element(By.XPATH, '//*[@id=\"header\"]/div/div/div[1]/a/img').click()"
   ]
  },
  {
   "cell_type": "code",
   "execution_count": null,
   "id": "1dd54126",
   "metadata": {},
   "outputs": [],
   "source": []
  }
 ],
 "metadata": {
  "kernelspec": {
   "display_name": "Python 3 (ipykernel)",
   "language": "python",
   "name": "python3"
  },
  "language_info": {
   "codemirror_mode": {
    "name": "ipython",
    "version": 3
   },
   "file_extension": ".py",
   "mimetype": "text/x-python",
   "name": "python",
   "nbconvert_exporter": "python",
   "pygments_lexer": "ipython3",
   "version": "3.9.7"
  }
 },
 "nbformat": 4,
 "nbformat_minor": 5
}
