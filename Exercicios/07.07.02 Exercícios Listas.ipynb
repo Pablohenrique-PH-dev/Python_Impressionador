{
 "cells": [
  {
   "cell_type": "markdown",
   "metadata": {},
   "source": [
    "# Exercícios\n",
    "\n",
    "## 1. Faturamento do Melhor e do Pior Mês do Ano\n",
    "\n",
    "Qual foi o valor de vendas do melhor mês do Ano?\n",
    "E valor do pior mês do ano?"
   ]
  },
  {
   "cell_type": "code",
   "execution_count": 34,
   "metadata": {},
   "outputs": [
    {
     "name": "stdout",
     "output_type": "stream",
     "text": [
      "[25000, 29000, 22200, 17750, 15870, 19900, 19850, 20120, 17540, 15555, 49051, 9650]\n",
      "O melhor mês de vendas foi nov.\n",
      "O pior mês de vendas foi dez.\n"
     ]
    }
   ],
   "source": [
    "meses = ['jan', 'fev', 'mar', 'abr', 'mai', 'jun', 'jul', 'ago', 'set', 'out', 'nov', 'dez']\n",
    "vendas_1sem = [25000, 29000, 22200, 17750, 15870, 19900]\n",
    "vendas_2sem = [19850, 20120, 17540, 15555, 49051, 9650]\n",
    "\n",
    "vendas = vendas_1sem + vendas_2sem\n",
    "print(vendas)\n",
    "\n",
    "melhor_mes = max(meses)\n",
    "im = meses[10]\n",
    "print('O melhor mês de vendas foi {}.'.format(im))\n",
    "\n",
    "\n",
    "pior_mes = min(meses)\n",
    "ip = meses[11]\n",
    "print('O pior mês de vendas foi {}.'.format(ip))\n",
    "\n"
   ]
  },
  {
   "cell_type": "markdown",
   "metadata": {},
   "source": [
    "## 2. Continuação\n",
    "\n",
    "Agora relacione as duas listas para printar 'O melhor mês do ano foi {} com {} vendas' e o mesmo para o pior mês do ano.\n",
    "\n",
    "Calcule também o faturamento total do Ano e quanto que o melhor mês representou do faturamento total.\n",
    "\n",
    "Obs: Para o faturamento total, pode usar a função sum(lista) que soma todos os itens de uma lista"
   ]
  },
  {
   "cell_type": "code",
   "execution_count": 56,
   "metadata": {},
   "outputs": [
    {
     "name": "stdout",
     "output_type": "stream",
     "text": [
      "O melhor mês de vendas foi nov com o valor de R$49,051.\n",
      "O pior mês de vendas foi dez com o valor de R$9,650.\n",
      "O Faturamento do ano foi R$261,486 e o mês que foi nov o melhor representou 18.8% do nosso resultado.\n"
     ]
    }
   ],
   "source": [
    "melhor_mes = max(meses)\n",
    "im = meses[10]\n",
    "melhor_mes = max(vendas)\n",
    "i = vendas.index(melhor_mes)\n",
    "print('O melhor mês de vendas foi {} com o valor de R${:,}.'.format(im, melhor_mes))\n",
    "\n",
    "\n",
    "pior_mes = min(meses)\n",
    "ip = meses[11]\n",
    "pior_mes = min(vendas)\n",
    "i = vendas.index(pior_mes)\n",
    "print('O pior mês de vendas foi {} com o valor de R${:,}.'.format(ip, pior_mes))\n",
    "\n",
    "vendas_total = sum(vendas)\n",
    "calc = melhor_mes / vendas_total\n",
    "print('O Faturamento do ano foi R${:,} e o mês que foi {} o melhor representou {:.1%} do nosso resultado.'.format(vendas_total, im, calc))"
   ]
  },
  {
   "cell_type": "markdown",
   "metadata": {},
   "source": [
    "## 3. Crie uma lista com o top 3 valores de vendas do ano (sem fazer \"no olho\")\n",
    "\n",
    "Dica: o método remove retira um item da lista."
   ]
  },
  {
   "cell_type": "code",
   "execution_count": 73,
   "metadata": {},
   "outputs": [
    {
     "name": "stdout",
     "output_type": "stream",
     "text": [
      "[49051, 29000, 25000]\n"
     ]
    }
   ],
   "source": [
    "vendas.sort(reverse=True)\n",
    "\n",
    "top3 = vendas[:3]\n",
    "print(top3)"
   ]
  },
  {
   "cell_type": "code",
   "execution_count": null,
   "metadata": {},
   "outputs": [],
   "source": []
  }
 ],
 "metadata": {
  "kernelspec": {
   "display_name": "Python 3 (ipykernel)",
   "language": "python",
   "name": "python3"
  },
  "language_info": {
   "codemirror_mode": {
    "name": "ipython",
    "version": 3
   },
   "file_extension": ".py",
   "mimetype": "text/x-python",
   "name": "python",
   "nbconvert_exporter": "python",
   "pygments_lexer": "ipython3",
   "version": "3.9.7"
  }
 },
 "nbformat": 4,
 "nbformat_minor": 4
}
