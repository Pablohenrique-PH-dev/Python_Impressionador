{
 "cells": [
  {
   "cell_type": "markdown",
   "metadata": {},
   "source": [
    "# Exercícios\n",
    "\n",
    "## 1. Mudança de Carga Tributária\n",
    "\n",
    "- Reformas e mudanças de cargas tributárias são bem comuns no Brasil.\n",
    "\n",
    "Digamos que você trabalhe em uma empresa de ecommerce\n",
    "\n",
    "No Brasil, o imposto sobre livros é zerado. De um ano para o outro, o governo criou um novo imposto que incide em 10% sobre o valor dos livros e agora você precisa alterar o registro dos preços dos livros da empresa para garantir que esse imposto vai ser repassado para o preço final do produto.\n",
    "\n",
    "Crie um código que recalcule o valor do livro da sua lista de produtos e ajuste na tabela.\n",
    "\n",
    "Além disso, calcule qual vai ser o impacto financeiro da criação desse imposto para a empresa (ou seja, quanto que o imposto vai aumentar de custo para a empresa)\n",
    "\n",
    "Obs: para facilitar, colocamos apenas 1 livro na lista, mas em breve vamos aprender um for que vai adaptar esse cenário para qualquer quantidade de livros na sua lista.\n",
    "\n",
    "Obs2: Seu código deve funcionar mesmo que não haja livros na lista de produtos da empresa"
   ]
  },
  {
   "cell_type": "code",
   "execution_count": 92,
   "metadata": {},
   "outputs": [
    {
     "name": "stdout",
     "output_type": "stream",
     "text": [
      "Qual é o nome do produto? livro\n",
      "Qual o a porcentagem de aumento? 1.1\n",
      "impacto antes calculado para imposto era de R$2,000,000.\n",
      "impacto depois calculado para imposto é de R$2,200,000.\n",
      "O aumento foi de R$200,000.\n",
      "O produto livro teve um reajuste de 1.1% e seu valor foi alterado para R$44,00.\n"
     ]
    }
   ],
   "source": [
    "produtos = ['computador', 'livro', 'tablet', 'celular', 'tv', 'ar condicionado', 'alexa', 'máquina de café', 'kindle']\n",
    "\n",
    "#cada item da lista dos produtos corresponde a quantidade de vendas no mês e preço, nessa ordem\n",
    "produtos_ecommerce = [\n",
    "    [10000, 2500],\n",
    "    [50000, 40],\n",
    "    [7000, 1200],\n",
    "    [20000, 1500],\n",
    "    [5800, 1300],\n",
    "    [7200, 2500],\n",
    "    [200, 800],\n",
    "    [3300, 700],\n",
    "    [1900, 400]\n",
    "]\n",
    "\n",
    "consulta_produto = input(\"Qual é o nome do produto? \")\n",
    "valor_aumento = input(\"Qual o a porcentagem de aumento? \")\n",
    "\n",
    "\n",
    "if consulta_produto in produtos:\n",
    "    i = produtos.index(consulta_produto)\n",
    "    impacto_antes = produtos_ecommerce[i][0] * produtos_ecommerce[i][-1]\n",
    "    print('impacto antes calculado para imposto era de R${:,}.'.format(impacto_antes))\n",
    "    altera_valor =  produtos_ecommerce[i][-1] * float(valor_aumento)\n",
    "    produtos_ecommerce[i][-1] = int(altera_valor)\n",
    "    impacto_depois = produtos_ecommerce[i][0] * produtos_ecommerce[i][-1]\n",
    "    print('impacto depois calculado para imposto é de R${:,}.'.format(impacto_depois))\n",
    "    print('O aumento foi de R${:,}.'.format(impacto_depois - impacto_antes))\n",
    "    print('O produto {} teve um reajuste de {}% e seu valor foi alterado para R${},00.'.format(consulta_produto, valor_aumento, produtos_ecommerce[i][-1]))\n",
    "    #print('O valor da lista {} foi atualizado!'.format(produtos_ecommerce))\n",
    "else:\n",
    "    print('item não encontrado')\n",
    "\n",
    "    \n"
   ]
  },
  {
   "cell_type": "code",
   "execution_count": null,
   "metadata": {},
   "outputs": [],
   "source": []
  },
  {
   "cell_type": "code",
   "execution_count": null,
   "metadata": {},
   "outputs": [],
   "source": []
  }
 ],
 "metadata": {
  "kernelspec": {
   "display_name": "Python 3 (ipykernel)",
   "language": "python",
   "name": "python3"
  },
  "language_info": {
   "codemirror_mode": {
    "name": "ipython",
    "version": 3
   },
   "file_extension": ".py",
   "mimetype": "text/x-python",
   "name": "python",
   "nbconvert_exporter": "python",
   "pygments_lexer": "ipython3",
   "version": "3.9.7"
  }
 },
 "nbformat": 4,
 "nbformat_minor": 4
}
