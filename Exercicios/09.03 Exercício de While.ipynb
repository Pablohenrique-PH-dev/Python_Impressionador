{
 "cells": [
  {
   "cell_type": "markdown",
   "metadata": {},
   "source": [
    "# Exercícios\n",
    "\n",
    "## 1. Input até o usuário parar\n",
    "\n",
    "Vamos criar um sistema de vendas. Nosso programa deve registrar os produtos e as quantidades (2 inputs) e adicionar em uma lista.\n",
    "\n",
    "O programa deve continuar rodando até o input ser vazio, ou seja, o usuário apertar enter sem digitar nenhum produto ou quantidade.\n",
    "\n",
    "Ao final do programa, ele deve printar todos os produtos e quantidades vendidas.\n",
    "\n",
    "Obs: Caso queira, para o print ficar mais visual, pode usar o join para cada item ser printado em uma linha.\n",
    "Sugestão para sua lista de produtos vendidos:"
   ]
  },
  {
   "cell_type": "raw",
   "metadata": {},
   "source": [
    "vendas = [\n",
    "    ['maçã', 5],\n",
    "    ['banana', 15],\n",
    "    ['azeite', 1],\n",
    "    ['vinho', 3],\n",
    "]"
   ]
  },
  {
   "cell_type": "code",
   "execution_count": 1,
   "metadata": {},
   "outputs": [
    {
     "name": "stdout",
     "output_type": "stream",
     "text": [
      "Digite o produtojhkjhkjhk\n",
      "Qual a quantidade7777\n",
      "Digite o produtobjhbgjhb\n",
      "Qual a quantidade323232\n",
      "Digite o produto\n",
      "[['jhkjhkjhk', '7777'], ['bjhbgjhb', '323232']]\n"
     ]
    }
   ],
   "source": [
    "#seu código aqui\n",
    "\n",
    "lista = []\n",
    "    \n",
    "while True:\n",
    "    produto = input('Digite o produto')\n",
    "    if not produto:\n",
    "        break\n",
    "    quantidade = input('Qual a quantidade')  \n",
    "    lista.append([produto, quantidade])\n",
    "    \n",
    "\n",
    "print(lista)"
   ]
  },
  {
   "cell_type": "markdown",
   "metadata": {},
   "source": [
    "### Obs: Podemos fazer o While de 2 maneiras:\n",
    "\n",
    "1. While com a condição que finalize o programa\n",
    "2. While rodando para sempre, mas com uma condição dentro do while que dê um break no código.\n",
    "\n",
    "Vamos mostrar as 2 opções"
   ]
  },
  {
   "cell_type": "code",
   "execution_count": 2,
   "metadata": {},
   "outputs": [
    {
     "name": "stdout",
     "output_type": "stream",
     "text": [
      "Digite o produtopapap\n",
      "Qual a quantidade7788555\n",
      "Digite o produtomdjdjdjd\n",
      "Qual a quantidade23644\n",
      "Digite o produto\n",
      "Qual a quantidade\n",
      "[['papap', '7788555'], ['mdjdjdjd', '23644']]\n"
     ]
    }
   ],
   "source": [
    "lista2 = []\n",
    "\n",
    "produto = input('Digite o produto')\n",
    "quantidade = input('Qual a quantidade') \n",
    "\n",
    "while produto:\n",
    "    lista2.append([produto, quantidade])\n",
    "    produto = input('Digite o produto')\n",
    "    quantidade = input('Qual a quantidade')  \n",
    "    \n",
    "    \n",
    "\n",
    "print(lista2)"
   ]
  },
  {
   "cell_type": "code",
   "execution_count": null,
   "metadata": {},
   "outputs": [],
   "source": []
  }
 ],
 "metadata": {
  "kernelspec": {
   "display_name": "Python 3 (ipykernel)",
   "language": "python",
   "name": "python3"
  },
  "language_info": {
   "codemirror_mode": {
    "name": "ipython",
    "version": 3
   },
   "file_extension": ".py",
   "mimetype": "text/x-python",
   "name": "python",
   "nbconvert_exporter": "python",
   "pygments_lexer": "ipython3",
   "version": "3.9.7"
  }
 },
 "nbformat": 4,
 "nbformat_minor": 4
}
