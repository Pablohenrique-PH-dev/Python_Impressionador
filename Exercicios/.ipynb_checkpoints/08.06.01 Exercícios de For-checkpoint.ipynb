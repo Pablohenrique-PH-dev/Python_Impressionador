{
 "cells": [
  {
   "cell_type": "markdown",
   "metadata": {},
   "source": [
    "# Exercícios\n",
    "\n",
    "## 1. Calculando % de uma lista\n",
    "\n",
    "Faremos algo parecido com \"filtrar\" uma lista. Mais pra frente no curso aprenderemos outras formas de fazer isso, mas com o nosso conhecimentoa atual já conseguimos resolver o desafio.\n",
    "\n",
    "Digamos que a gente tenha uma lista de vendedores e ao invés de saber todos os vendedores que bateram a meta, eu quero conseguir calcular o % de vendedores que bateram a meta. Ou seja, se temos 10 vendedores e 3 bateram a meta, temos 30% dos vendedores que bateram a meta."
   ]
  },
  {
   "cell_type": "code",
   "execution_count": 25,
   "metadata": {},
   "outputs": [
    {
     "name": "stdout",
     "output_type": "stream",
     "text": [
      "A porcentagem de vendedores acima da meta foi de 50%.\n",
      "\n",
      "A porcentagem de vendedores acima da meta foi de 50%.\n"
     ]
    }
   ],
   "source": [
    "meta = 10000\n",
    "vendas = [\n",
    "    ['João', 15000],\n",
    "    ['Julia', 27000],\n",
    "    ['Marcus', 9900],\n",
    "    ['Maria', 3750],\n",
    "    ['Ana', 10300],\n",
    "    ['Alon', 7870],\n",
    "]\n",
    "#seu código aqui\n",
    "\n",
    "vendedores= []\n",
    "\n",
    "for item in vendas:\n",
    "    if item[1] >= meta:\n",
    "        vendedores.append(item)\n",
    "        valor = len(vendedores) / len(vendas)\n",
    "        \n",
    "# print(vendedores)\n",
    "print('A porcentagem de vendedores acima da meta foi de {:.0%}.'.format(valor))\n",
    "\n",
    "print()\n",
    "\n",
    "counter = 0\n",
    "\n",
    "\n",
    "for item in vendas:\n",
    "    if item[1] >= meta:\n",
    "        counter += 1\n",
    "        result = counter / len(vendas)\n",
    "\n",
    "print('A porcentagem de vendedores acima da meta foi de {:.0%}.'.format(result))"
   ]
  },
  {
   "cell_type": "markdown",
   "metadata": {},
   "source": [
    "- Vamos resolver de 2 formas:\n",
    "    1. Criando uma lista auxiliar apenas com os vendedores que bateram a meta\n",
    "    2. Fazendo o cálculo diretamente na lista que já temos"
   ]
  },
  {
   "cell_type": "markdown",
   "metadata": {},
   "source": [
    "## Para treinar uma estrutura parecida, crie um código para responder: quem foi o vendedor que mais vendeu?"
   ]
  },
  {
   "cell_type": "code",
   "execution_count": 27,
   "metadata": {},
   "outputs": [
    {
     "name": "stdout",
     "output_type": "stream",
     "text": [
      "O melhor vendedorª foi Julia com 27000 itens vendidos.\n"
     ]
    }
   ],
   "source": [
    "#seu código aqui\n",
    "\n",
    "melhor_vendedor = ''\n",
    "maior_vendas = 0\n",
    "\n",
    "for venda in vendas:\n",
    "    if venda[1] > maior_vendas:\n",
    "        maior_vendas = venda[1]\n",
    "        melhor_vendedor = venda[0]\n",
    "        \n",
    "print('O melhor vendedorª foi {} com {} itens vendidos.'.format(melhor_vendedor, maior_vendas))\n",
    "\n",
    "\n",
    "#outra maneira\n",
    "\n",
    "#vendedores.sort(reverse=True)\n",
    "\n",
    "#melhor_vendedor = vendedores[0]\n",
    "#print('O melhor vendedorª foi {} com {} itens vendidos.'.format(melhor_vendedor[0], melhor_vendedor[1]))"
   ]
  },
  {
   "cell_type": "code",
   "execution_count": null,
   "metadata": {},
   "outputs": [],
   "source": []
  }
 ],
 "metadata": {
  "kernelspec": {
   "display_name": "Python 3 (ipykernel)",
   "language": "python",
   "name": "python3"
  },
  "language_info": {
   "codemirror_mode": {
    "name": "ipython",
    "version": 3
   },
   "file_extension": ".py",
   "mimetype": "text/x-python",
   "name": "python",
   "nbconvert_exporter": "python",
   "pygments_lexer": "ipython3",
   "version": "3.9.7"
  }
 },
 "nbformat": 4,
 "nbformat_minor": 4
}
