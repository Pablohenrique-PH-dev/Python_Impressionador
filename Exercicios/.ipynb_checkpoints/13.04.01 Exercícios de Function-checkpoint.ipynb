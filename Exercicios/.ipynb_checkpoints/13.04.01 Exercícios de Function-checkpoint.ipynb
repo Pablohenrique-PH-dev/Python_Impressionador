{
 "cells": [
  {
   "cell_type": "markdown",
   "metadata": {},
   "source": [
    "# Exercícios\n",
    "\n",
    "Para fazer um treino simples antes de avançarmos em mais functions, vamos criar uma function que resolve 1 \"desafio simples\"\n",
    "\n",
    "## 1. Function para Cálculo de Carga Tributária\n",
    "\n",
    "(Lembrando, não se atente ao funcionamento real da carga tributária, é apenas um exemplo imaginário para treinarmos as functions com algo mais prático)\n",
    "\n",
    "Imagine que você trabalha no setor contábil de uma grande empresa de Varejo. \n",
    "\n",
    "Crie uma function que calcule qual o % de carga tributária que está sendo aplicado sobre um determinado produto, dado o preço de venda, o \"lucro\" e os custos (com exceção do imposto) dele."
   ]
  },
  {
   "cell_type": "code",
   "execution_count": 23,
   "metadata": {},
   "outputs": [],
   "source": [
    "prec = 1500\n",
    "cust = 400\n",
    "lucr = 900"
   ]
  },
  {
   "cell_type": "markdown",
   "metadata": {},
   "source": [
    "Repare que preço - custo não é igual ao lucro, porque ainda foi descontado o imposto. Sua functiona deve calcular qual foi o % de imposto aplicado sobre o preço total."
   ]
  },
  {
   "cell_type": "code",
   "execution_count": 24,
   "metadata": {},
   "outputs": [],
   "source": [
    "#crie sua function aqui\n",
    "\n",
    "def calculo_carga_tributaria(preco, custo, lucro):\n",
    "    imposto = preco - custo - lucro\n",
    "    return imposto / preco\n",
    "    \n",
    "    "
   ]
  },
  {
   "cell_type": "code",
   "execution_count": 25,
   "metadata": {},
   "outputs": [
    {
     "name": "stdout",
     "output_type": "stream",
     "text": [
      "A porcentagem de juros nessa venda foi de 13.3%.\n"
     ]
    }
   ],
   "source": [
    "#aplique sua function nos valores fornecidos para ver se ela está funcionando corretamente\n",
    "\n",
    "#calculo_carga_tributaria(2500, 100, 800)\n",
    "\n",
    "print('A porcentagem de juros nessa venda foi de {:.1%}.'.format(calculo_carga_tributaria(prec, cust, lucr)))"
   ]
  },
  {
   "cell_type": "code",
   "execution_count": null,
   "metadata": {},
   "outputs": [],
   "source": []
  }
 ],
 "metadata": {
  "kernelspec": {
   "display_name": "Python 3 (ipykernel)",
   "language": "python",
   "name": "python3"
  },
  "language_info": {
   "codemirror_mode": {
    "name": "ipython",
    "version": 3
   },
   "file_extension": ".py",
   "mimetype": "text/x-python",
   "name": "python",
   "nbconvert_exporter": "python",
   "pygments_lexer": "ipython3",
   "version": "3.9.7"
  }
 },
 "nbformat": 4,
 "nbformat_minor": 4
}
