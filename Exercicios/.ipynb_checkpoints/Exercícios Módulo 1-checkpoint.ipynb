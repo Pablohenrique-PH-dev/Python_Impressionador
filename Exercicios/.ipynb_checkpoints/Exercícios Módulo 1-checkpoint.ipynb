{
 "cells": [
  {
   "cell_type": "markdown",
   "metadata": {},
   "source": [
    "# Exercícios do Módulo 1 - Operações, Variáveis e Input"
   ]
  },
  {
   "cell_type": "markdown",
   "metadata": {},
   "source": [
    "### Parte 1 - Operações e Variáveis\n",
    "Crie um programa que imprima (print) os principais indicadores da loja Hashtag&Drink no último ano.\n",
    "Obs: faça tudo usando variáveis.\n",
    "\n",
    "Valores do último ano:\n",
    "\n",
    "Quantidade de Vendas de Coca = 150<br>\n",
    "Quantidade de Vendas de Pepsi = 130<br>\n",
    "Preço Unitário da Coca = 1,50 <br>\n",
    "Preço Unitário da Pepsi = 1,50<br>\n",
    "Custo da Loja: 2.500,00\n",
    "\n",
    "Use o bloco abaixo para criar todas as variáveis que precisar."
   ]
  },
  {
   "cell_type": "code",
   "execution_count": 1,
   "metadata": {},
   "outputs": [],
   "source": [
    "qtd_vendas_coca = 150\n",
    "qtd_vendas_pepsi = 130\n",
    "valor_coca = 1.50\n",
    "valor_pepsi = 1.50\n",
    "custo_de_loja = 2500.00"
   ]
  },
  {
   "cell_type": "markdown",
   "metadata": {},
   "source": [
    "1. Qual foi o faturamento de Pepsi da Loja?"
   ]
  },
  {
   "cell_type": "code",
   "execution_count": 17,
   "metadata": {},
   "outputs": [
    {
     "name": "stdout",
     "output_type": "stream",
     "text": [
      "O Faturamento De Pepsi Foi De R$195.0.\n"
     ]
    }
   ],
   "source": [
    "fatur_pepsi = qtd_vendas_pepsi * valor_pepsi\n",
    "\n",
    "print(f'o faturamento de pepsi foi de R${fatur_pepsi}.'.title())"
   ]
  },
  {
   "cell_type": "markdown",
   "metadata": {},
   "source": [
    "2. Qual foi o faturamento de Coca da Loja?"
   ]
  },
  {
   "cell_type": "code",
   "execution_count": 18,
   "metadata": {},
   "outputs": [
    {
     "name": "stdout",
     "output_type": "stream",
     "text": [
      "O Faturamento De Coca Foi De R$225.0.\n"
     ]
    }
   ],
   "source": [
    "fatur_coca = qtd_vendas_coca * valor_coca\n",
    "\n",
    "print(f'o faturamento de coca foi de R${fatur_coca}.'.title())"
   ]
  },
  {
   "cell_type": "markdown",
   "metadata": {},
   "source": [
    "3. Qual foi o Lucro da loja?"
   ]
  },
  {
   "cell_type": "code",
   "execution_count": 19,
   "metadata": {},
   "outputs": [
    {
     "name": "stdout",
     "output_type": "stream",
     "text": [
      "O Faturamento De Vendas Da Loja Foi De R$420.0.\n",
      "\n",
      "O Lucro Da Loja Foi De R$-2080.0.\n"
     ]
    }
   ],
   "source": [
    "lucro_loja = fatur_coca + fatur_pepsi - custo_de_loja\n",
    "\n",
    "fatur_de_venda = fatur_coca + fatur_pepsi\n",
    "\n",
    "print(f'o faturamento de vendas da loja foi de R${fatur_de_venda}.'.title())\n",
    "print()\n",
    "print(f'o lucro da loja foi de R${lucro_loja}.'.title())"
   ]
  },
  {
   "cell_type": "markdown",
   "metadata": {},
   "source": [
    "4. Qual foi a Margem da Loja? (Lembre-se, margem = Lucro / Faturamento). Não precisa formatar em percentual"
   ]
  },
  {
   "cell_type": "code",
   "execution_count": 20,
   "metadata": {},
   "outputs": [
    {
     "name": "stdout",
     "output_type": "stream",
     "text": [
      "A Margem Da Loja Foi De R$-4.9523809523809526.\n"
     ]
    }
   ],
   "source": [
    "margem_da_loja = lucro_loja / fatur_de_venda\n",
    "\n",
    "print(f'a margem da loja foi de R${margem_da_loja}.'.title())"
   ]
  },
  {
   "cell_type": "markdown",
   "metadata": {},
   "source": [
    "### Parte 2 - Inputs e Strings"
   ]
  },
  {
   "cell_type": "markdown",
   "metadata": {},
   "source": [
    "A maioria das empresas trabalham com um Código para cada produto que possuem. A Hashtag&Drink, por exemplo, tem mais de 1.000 produtos e possui um código para cada produto.\n",
    "Ex:<br>\n",
    "Coca -> Código: BEB1300543<br>\n",
    "Pepsi -> Código: BEB1300545<br>\n",
    "Vinho Primitivo Lucarelli -> Código: BAC1546001<br>\n",
    "Vodka Smirnoff -> Código: BAC17675002<br>\n",
    "\n",
    "Repare que todas as bebidas não alcóolicas tem o início do Código \"BEB\" e todas as bebidas alcóolicas tem o início do código \"BAC\".\n",
    "\n",
    "Crie um programa de consulta de bebida que, dado um código qualquer, identifique se a bebida é alcóolica. O programa deve responder True para bebidas alcóolicas e False para bebidas não alcóolicas. Para inserir um código, use um input.\n",
    "\n",
    "Dica: Lembre-se do comando in para strings e sempre insira os códigos com letra maiúscula para facilitar."
   ]
  },
  {
   "cell_type": "code",
   "execution_count": 51,
   "metadata": {},
   "outputs": [
    {
     "name": "stdout",
     "output_type": "stream",
     "text": [
      "Digite O Código Que Deseja Consultar beb5555\n",
      "True\n",
      "Bebidas não alcóolicas\n",
      "Tipo De Bebidas Não Alcóolicas\n"
     ]
    },
    {
     "data": {
      "text/plain": [
       "'Tipo De Bebidas Não Alcóolicas'"
      ]
     },
     "execution_count": 51,
     "metadata": {},
     "output_type": "execute_result"
    }
   ],
   "source": [
    "codigos = 'BEB'\n",
    "\n",
    "consulta = input(\"digite o código que deseja consultar \".title()).upper()    # resposta lira\n",
    "\n",
    "print(\"BEB\" in consulta)         # resposta lira\n",
    "\n",
    "if 'BEB' in consulta:\n",
    "    print(\"Bebidas não alcóolicas\")\n",
    "else:\n",
    "    print(\"Bebidas alcóolicas\")\n",
    "    \n",
    "def consult():\n",
    "    return f'tipo de {\"Bebidas não alcóolicas\" if \"BEB\" in consulta else \"Bebidas alcóolicas\"}'.title()\n",
    "\n",
    "print(consult())\n",
    "\n",
    "def consult():\n",
    "    return f'tipo de {\"Bebidas não alcóolicas\" if \"BEB\" in consulta else \"Bebidas alcóolicas\"}'.title()\n",
    "\n",
    "consult()"
   ]
  },
  {
   "cell_type": "code",
   "execution_count": null,
   "metadata": {},
   "outputs": [],
   "source": []
  }
 ],
 "metadata": {
  "kernelspec": {
   "display_name": "Python 3 (ipykernel)",
   "language": "python",
   "name": "python3"
  },
  "language_info": {
   "codemirror_mode": {
    "name": "ipython",
    "version": 3
   },
   "file_extension": ".py",
   "mimetype": "text/x-python",
   "name": "python",
   "nbconvert_exporter": "python",
   "pygments_lexer": "ipython3",
   "version": "3.9.7"
  }
 },
 "nbformat": 4,
 "nbformat_minor": 4
}
