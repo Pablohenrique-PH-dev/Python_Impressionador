{
 "cells": [
  {
   "cell_type": "markdown",
   "metadata": {},
   "source": [
    "# Exercícios\n",
    "\n",
    "## 1. Cadastro de CPF\n",
    "\n",
    "Crie um programa para cadastro de CPF de clientes que recebe o CPF em um input box apenas com números.\n",
    "\n",
    "Ex: 'Insira seu CPF (digite apenas números)'\n",
    "\n",
    "Caso o usuário digite algo diferente de números ou digite menos de 11 caracteres (tamanho do CPF brasileiro), o programa deve exibir uma mensagem de \"Digite seu CPF corretamente e digite apenas números\""
   ]
  },
  {
   "cell_type": "code",
   "execution_count": 42,
   "metadata": {},
   "outputs": [
    {
     "name": "stdout",
     "output_type": "stream",
     "text": [
      "DIGITE APENAS OS NUMEROS DO SEU CPF. 156,563,417,00\n",
      "VOCÊ NÃO DIGITOU OS 11 CARACTERES DO CPF E DIGITE APENAS NUMEROS.\n"
     ]
    }
   ],
   "source": [
    "CPF = input('digite apenas os numeros do seu cpf. '.upper())\n",
    "\n",
    "\n",
    "if not CPF:\n",
    "    print('você precisa digitar seu cpf.'.upper())\n",
    "elif len(CPF) != 11:\n",
    "        print('você não digitou os 11 caracteres do cpf e digite apenas numeros.'.upper())\n",
    "elif CPF.isnumeric() is True:\n",
    "    CPF = int(CPF)\n",
    "    print('CPF {} CADASTRADO NO SISTEMA.'.format(CPF))\n",
    "else:\n",
    "    print('você digitou {} e precisa digitar somente numeros. tente novamente.'.format(CPF))\n",
    "\n"
   ]
  },
  {
   "cell_type": "markdown",
   "metadata": {},
   "source": [
    "## 2. Melhorando nosso Cadastro de CPF\n",
    "\n",
    "Agora, além das validações anteriores, vamos criar um input que permita que o usuário insira pontos, traços e inclusive espaços vazios.\n",
    "\n",
    "Nosso programa deve \"tratar\" o que o usuário inserir para padronizar o CPF dele em apenas números.\n",
    "\n",
    "A verificação de tamanho do CPF com 11 caracteres continua válida, mas ela só deve ser feita depois de retirar todos os pontos, traços e espaços do CPF que o cliente inserir e, uma vez retirados pontos, traços e espaços, devem sobrar apenas números no CPF. Qualquer outro caractere deve ser considerado inválido.\n",
    "\n",
    "No final, nosso programa deve exibir uma mensagem para o usuário, caso ele tenha inserido o CPF inválido ou então apenas deve printar o CPF correto já só com número."
   ]
  },
  {
   "cell_type": "code",
   "execution_count": null,
   "metadata": {},
   "outputs": [],
   "source": [
    "CPF = input('digite apenas os numeros do seu cpf. '.upper())\n",
    "\n",
    "# TRATANDO O CPF\n",
    "CPF = CPF.strip()           # retirando os espaços antes e depois do input\n",
    "CPF = CPF.replace('.', '')  # substituindo os '.' por '' espaço vazio\n",
    "CPF = CPF.replace('-', '')  # substituindo os '-' por '' espaço vazio\n",
    "\n",
    "if not CPF:\n",
    "    print('você precisa digitar seu cpf.'.upper())\n",
    "elif len(CPF) != 11:\n",
    "        print('você não digitou os 11 caracteres do cpf e digite apenas numeros.'.upper())\n",
    "elif CPF.isnumeric() is True:\n",
    "    CPF = int(CPF)\n",
    "    print('CPF {} CADASTRADO NO SISTEMA.'.format(CPF))\n",
    "else:\n",
    "    print('você digitou {} e precisa digitar somente numeros. tente novamente.'.format(CPF))\n"
   ]
  },
  {
   "cell_type": "markdown",
   "metadata": {},
   "source": [
    "## 3. Cadastro de e-mails\n",
    "\n",
    "- A Hashtag sempre se comunica com seus clientes por e-mail. Para isso, a gente tem em cada página um cadastro de nome e e-mail. Nesse cadastro, nosso sistema verifica se o e-mail que a pessoa inseriu é um e-mail válido, verificando se ele tem '@' e se depois do '@' tem algum ponto, afinal:\n",
    "\n",
    "- liragmail.com NÃO é um e-mail válido\n",
    "- lira@gmail NÃO é um e-mail válido\n",
    "- lira@gmail.com é um e-mail válido\n",
    "\n",
    "Crie um programa que permita o cadastro de nome e e-mail de uma pessoa (por meio de inputs) e que verifique:\n",
    "1. Se nome e e-mail foram preenchidos, caso contrário ele deve avisar para preencher todos os dados corretamente\n",
    "2. Se o e-mail contém '@' e se depois do '@' existe algum '.', caso contrário ele deve exibir uma mensagem de e-mail inválido\n",
    "\n",
    "Obs: Pode te ajudar lembrar do método .find da aula de Métodos de String. Você pode testar o que ele dá como resposta caso ele não encontre um item dentro da string"
   ]
  },
  {
   "cell_type": "code",
   "execution_count": 55,
   "metadata": {},
   "outputs": [
    {
     "name": "stdout",
     "output_type": "stream",
     "text": [
      "DIGITE SEU NOME. lll\n",
      "digite seu email. \n",
      "email digitado foi  e o mesmo Não é válido.\n"
     ]
    }
   ],
   "source": [
    "nome = input('digite seu nome. '.upper())\n",
    "email = input('digite seu email. ')\n",
    "\n",
    "if nome:\n",
    "    if '@' in email and '.com' in email:\n",
    "        print('Cadatro realizado com sucesso!')\n",
    "        print('Parabéns {} recebemos seu cadastro e você receberá maiores informações no email: {} .'.format(nome, email))\n",
    "    elif '@' in email:\n",
    "        print('Você digitou {} esqueceu de digitar o \".com\" no seu email.'.format(email))\n",
    "    elif '.com' in email:\n",
    "         print('Você digitou {} esqueceu de digitar o \"@\" no seu email.'.format(email))\n",
    "    else:\n",
    "        print('email digitado foi {} e o mesmo Não é válido.'.format(email))\n",
    "else:\n",
    "    print('Nome não digitado')\n"
   ]
  },
  {
   "cell_type": "code",
   "execution_count": null,
   "metadata": {},
   "outputs": [],
   "source": []
  },
  {
   "cell_type": "code",
   "execution_count": null,
   "metadata": {},
   "outputs": [],
   "source": []
  }
 ],
 "metadata": {
  "kernelspec": {
   "display_name": "Python 3 (ipykernel)",
   "language": "python",
   "name": "python3"
  },
  "language_info": {
   "codemirror_mode": {
    "name": "ipython",
    "version": 3
   },
   "file_extension": ".py",
   "mimetype": "text/x-python",
   "name": "python",
   "nbconvert_exporter": "python",
   "pygments_lexer": "ipython3",
   "version": "3.9.7"
  }
 },
 "nbformat": 4,
 "nbformat_minor": 4
}
