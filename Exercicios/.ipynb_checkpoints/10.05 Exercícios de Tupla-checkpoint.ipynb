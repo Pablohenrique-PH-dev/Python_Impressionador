{
 "cells": [
  {
   "cell_type": "markdown",
   "metadata": {},
   "source": [
    "# Exercícios\n",
    "\n",
    "São exercícios bem parecidos com os que fizemos com listas. Mas na tupla, podemos não só trabalhar com índices, mas fazer o \"unpacking\" das tuplas, o que pode facilitar nossos códigos.\n",
    "\n",
    "## 1. Análise de Vendas\n",
    "\n",
    "Nesse exercício vamos fazer uma \"análise simples\" de atingimento de Meta.\n",
    "\n",
    "Temos uma lista com os vendedores e os valores de vendas e queremos identificar (printar) quais os vendedores que bateram a meta e qual foi o valor que eles venderam."
   ]
  },
  {
   "cell_type": "code",
   "execution_count": 28,
   "metadata": {},
   "outputs": [
    {
     "name": "stdout",
     "output_type": "stream",
     "text": [
      "O vendedores ganhadores esse mês foram:\n",
      "\n",
      "O vendedor João vendeu 15000.\n",
      "\n",
      "O vendedor Julia vendeu 27000.\n",
      "\n",
      "O vendedor Ana vendeu 10300.\n",
      "\n"
     ]
    }
   ],
   "source": [
    "meta = 10000\n",
    "vendas = [\n",
    "    ('João', 15000),\n",
    "    ('Julia', 27000),\n",
    "    ('Marcus', 9900),\n",
    "    ('Maria', 3750),\n",
    "    ('Ana', 10300),\n",
    "    ('Alon', 7870),\n",
    "]\n",
    "\n",
    "vencedores = []\n",
    "\n",
    "print('O vendedores ganhadores esse mês foram:')\n",
    "print()\n",
    "\n",
    "for nome, venda in vendas:\n",
    "    if venda > meta:\n",
    "        print('O vendedor {} vendeu {}.'.format(nome, venda))\n",
    "        print()"
   ]
  },
  {
   "cell_type": "markdown",
   "metadata": {},
   "source": [
    "## 2. Comparação com Ano Anterior\n",
    "\n",
    "Digamos que você está analisando as vendas de produtos de um ecommerce e quer identificar quais produtos tiveram no ano de 2020 mais vendas do que no ano de 2019, para reportar isso para a diretoria.\n",
    "\n",
    "Sua resposta pode ser um print de cada produto, qual foi a venda de 2019, a venda de 2020 e o % de crescimento de 2020 para 2019.\n",
    "\n",
    "Lembrando, para calcular o % de crescimento de um produto de um ano para o outro, podemos fazer: (vendas_produto2020/vendas_produto2019 - 1)\n",
    "\n",
    "A lógica da tupla é: (produto, vendas2019, vendas2020)"
   ]
  },
  {
   "cell_type": "code",
   "execution_count": 27,
   "metadata": {},
   "outputs": [
    {
     "name": "stdout",
     "output_type": "stream",
     "text": [
      "O produto iphone em 2019 vendeu 558147 e em 2020 951642 e teve o crescimento de 70.5%.\n",
      "O produto tv em 2019 vendeu 405252 e em 2020 787604 e teve o crescimento de 94.3%.\n",
      "O produto máquina de café em 2019 vendeu 718654 e em 2020 867660 e teve o crescimento de 20.7%.\n",
      "O produto notebook dell em 2019 vendeu 422760 e em 2020 694913 e teve o crescimento de 64.4%.\n",
      "O produto notebook hp em 2019 vendeu 154753 e em 2020 539704 e teve o crescimento de 248.8%.\n",
      "O produto microsoft surface em 2019 vendeu 438508 e em 2020 667179 e teve o crescimento de 52.1%.\n",
      "O produto webcam em 2019 vendeu 237467 e em 2020 295633 e teve o crescimento de 24.5%.\n",
      "O produto caixa de som em 2019 vendeu 489705 e em 2020 725316 e teve o crescimento de 48.1%.\n",
      "O produto microfone em 2019 vendeu 328311 e em 2020 644622 e teve o crescimento de 96.3%.\n",
      "O produto câmera canon em 2019 vendeu 591120 e em 2020 994303 e teve o crescimento de 68.2%.\n"
     ]
    }
   ],
   "source": [
    "vendas_produtos = [('iphone', 558147, 951642), ('galaxy', 712350, 244295), ('ipad', 573823, 26964), ('tv', 405252, 787604), ('máquina de café', 718654, 867660), ('kindle', 531580, 78830), ('geladeira', 973139, 710331), ('adega', 892292, 646016), ('notebook dell', 422760, 694913), ('notebook hp', 154753, 539704), ('notebook asus', 887061, 324831), ('microsoft surface', 438508, 667179), ('webcam', 237467, 295633), ('caixa de som', 489705, 725316), ('microfone', 328311, 644622), ('câmera canon', 591120, 994303)]\n",
    "\n",
    "#seu código aqui\n",
    "\n",
    "for item in vendas_produtos:\n",
    "    produto, ano_2019, ano_2020 = item\n",
    "    if ano_2020 > ano_2019:\n",
    "        cresc = ano_2020 / ano_2019 -1\n",
    "        print('O produto {} em 2019 vendeu {} e em 2020 {} e teve o crescimento de {:.1%}.'\n",
    "              .format(produto, ano_2019, ano_2020, cresc))"
   ]
  },
  {
   "cell_type": "code",
   "execution_count": null,
   "metadata": {},
   "outputs": [],
   "source": []
  }
 ],
 "metadata": {
  "kernelspec": {
   "display_name": "Python 3 (ipykernel)",
   "language": "python",
   "name": "python3"
  },
  "language_info": {
   "codemirror_mode": {
    "name": "ipython",
    "version": 3
   },
   "file_extension": ".py",
   "mimetype": "text/x-python",
   "name": "python",
   "nbconvert_exporter": "python",
   "pygments_lexer": "ipython3",
   "version": "3.9.7"
  }
 },
 "nbformat": 4,
 "nbformat_minor": 4
}
